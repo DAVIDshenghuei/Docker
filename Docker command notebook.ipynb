{
 "cells": [
  {
   "cell_type": "markdown",
   "id": "33a8ed78",
   "metadata": {},
   "source": [
    "### Docker command notebook"
   ]
  },
  {
   "cell_type": "markdown",
   "id": "d06ef3d1",
   "metadata": {},
   "source": [
    "Download the images in local "
   ]
  },
  {
   "cell_type": "code",
   "execution_count": null,
   "id": "bb1e799a",
   "metadata": {},
   "outputs": [],
   "source": [
    "docker pull [images]:[version]"
   ]
  },
  {
   "cell_type": "markdown",
   "id": "272e153a",
   "metadata": {},
   "source": [
    "Start. if you don't have the images, would help you to download first"
   ]
  },
  {
   "cell_type": "code",
   "execution_count": null,
   "id": "e953926a",
   "metadata": {},
   "outputs": [],
   "source": [
    "docker run [images]:[version]"
   ]
  },
  {
   "cell_type": "markdown",
   "id": "9ea20688",
   "metadata": {},
   "source": [
    "Checking Running Status\n",
    "\n",
    "[-n][number] return how many records\n",
    "\n",
    "[-a] return all records\n",
    "\n",
    "[-q] return all records with the CONTAINER ID"
   ]
  },
  {
   "cell_type": "code",
   "execution_count": null,
   "id": "ab04d95e",
   "metadata": {},
   "outputs": [],
   "source": [
    "docker ps"
   ]
  },
  {
   "cell_type": "code",
   "execution_count": null,
   "id": "6b865b99",
   "metadata": {},
   "outputs": [],
   "source": [
    "docker ps -n [number] "
   ]
  },
  {
   "cell_type": "code",
   "execution_count": null,
   "id": "fcc19aad",
   "metadata": {},
   "outputs": [],
   "source": [
    "docker ps -a"
   ]
  },
  {
   "cell_type": "code",
   "execution_count": null,
   "id": "4637d6de",
   "metadata": {},
   "outputs": [],
   "source": [
    "docker ps -q"
   ]
  },
  {
   "cell_type": "markdown",
   "id": "9d9d7589",
   "metadata": {},
   "source": [
    "Rename a container"
   ]
  },
  {
   "cell_type": "code",
   "execution_count": null,
   "id": "85c70b6b",
   "metadata": {},
   "outputs": [],
   "source": [
    "docker run --name=[*] [images]  /bin/bash"
   ]
  },
  {
   "cell_type": "markdown",
   "id": "20ecc1a1",
   "metadata": {},
   "source": [
    "Start a images and switch the cmd"
   ]
  },
  {
   "cell_type": "code",
   "execution_count": null,
   "id": "e483c4ca",
   "metadata": {},
   "outputs": [],
   "source": [
    "docker run -it [images]  /bin/bash"
   ]
  },
  {
   "cell_type": "markdown",
   "id": "470949bc",
   "metadata": {},
   "source": [
    "If you use [run] and you want to close container, use [exit]\n",
    "If you use [run] and you don't want to close container, just want to back to the homepage, use [ctrl+p+q]"
   ]
  },
  {
   "cell_type": "markdown",
   "id": "9fe11848",
   "metadata": {},
   "source": [
    "Want to restart a closed container"
   ]
  },
  {
   "cell_type": "code",
   "execution_count": null,
   "id": "17d85578",
   "metadata": {},
   "outputs": [],
   "source": [
    "docker start [CONTAINER ID]"
   ]
  },
  {
   "cell_type": "markdown",
   "id": "c9f356b4",
   "metadata": {},
   "source": [
    "Want to close the container"
   ]
  },
  {
   "cell_type": "code",
   "execution_count": null,
   "id": "bd9a1362",
   "metadata": {},
   "outputs": [],
   "source": [
    "docker stop [CONTAINER ID]"
   ]
  },
  {
   "cell_type": "markdown",
   "id": "8e050678",
   "metadata": {},
   "source": [
    "The container you want to delete. If the container is running, it will report an error"
   ]
  },
  {
   "cell_type": "code",
   "execution_count": null,
   "id": "2afd7562",
   "metadata": {},
   "outputs": [],
   "source": [
    "docker rm [CONTAINER ID]"
   ]
  },
  {
   "cell_type": "markdown",
   "id": "276147e6",
   "metadata": {},
   "source": [
    "The images you want to delete."
   ]
  },
  {
   "cell_type": "code",
   "execution_count": null,
   "id": "4c498e6a",
   "metadata": {},
   "outputs": [],
   "source": [
    "docker rmi [images]"
   ]
  },
  {
   "cell_type": "markdown",
   "id": "5f9544de",
   "metadata": {},
   "source": [
    "Compulsory Deletion"
   ]
  },
  {
   "cell_type": "code",
   "execution_count": null,
   "id": "373b98ad",
   "metadata": {},
   "outputs": [],
   "source": [
    "docker rm -f [CONTAINER ID]"
   ]
  },
  {
   "cell_type": "markdown",
   "id": "00a0701b",
   "metadata": {},
   "source": [
    "Reopen the stopped comtainer cmd"
   ]
  },
  {
   "cell_type": "code",
   "execution_count": null,
   "id": "27b2119c",
   "metadata": {},
   "outputs": [],
   "source": [
    "docker exec -it [CONTAINER ID]  /bin/bash"
   ]
  },
  {
   "cell_type": "markdown",
   "id": "f1af39bd",
   "metadata": {},
   "source": [
    "Entering a running container"
   ]
  },
  {
   "cell_type": "code",
   "execution_count": null,
   "id": "6177e39a",
   "metadata": {},
   "outputs": [],
   "source": [
    "docker attach [CONTAINER ID]"
   ]
  },
  {
   "cell_type": "markdown",
   "id": "286319ef",
   "metadata": {},
   "source": [
    "Copy file from Container to Host"
   ]
  },
  {
   "cell_type": "code",
   "execution_count": null,
   "id": "72e7075c",
   "metadata": {},
   "outputs": [],
   "source": [
    "docker cp [CONTAINER ID]:container [internal path] [destination host path]\n",
    "#docker cp [CONTAINER ID]:container /internal path/file name/ destination host path      [/as another file name]"
   ]
  },
  {
   "cell_type": "markdown",
   "id": "a6428ba9",
   "metadata": {},
   "source": [
    "Docker images export"
   ]
  },
  {
   "cell_type": "code",
   "execution_count": null,
   "id": "28a702df",
   "metadata": {},
   "outputs": [],
   "source": [
    "docker export [CONTAINER ID] > [file name.tar]"
   ]
  },
  {
   "cell_type": "markdown",
   "id": "62eb6597",
   "metadata": {},
   "source": [
    "Docker images import"
   ]
  },
  {
   "cell_type": "code",
   "execution_count": null,
   "id": "3da7c0e8",
   "metadata": {},
   "outputs": [],
   "source": [
    "cat [filename.tar] | docker import - [images-user]/[images-name]:[images-version-number]"
   ]
  },
  {
   "cell_type": "markdown",
   "id": "db4a19aa",
   "metadata": {},
   "source": [
    "1. attach   ## Attach to a running container         # 在当前 shell 下 attach 连接指定运行镜像\n",
    "\n",
    "2. build    ## Build an image from a Dockerfile      # 通过 Dockerfile 定制镜像\n",
    "\n",
    "3. commit   ## Commit changes to create a new image  # 从容器更改中创建新的镜像\n",
    "\n",
    "4. cp       ## Copy files/folders from the container's filesystem to the host path  # 从容器中拷贝指定文件或目录到宿主机中\n",
    "\n",
    "5. create   ## Create a new container (similar to run, but does not start the container)  # 创建一个新的容器\n",
    "\n",
    "6. diff     ## Inspect changes on a container's filesystem  # 查看 Docker 容器的变化\n",
    "\n",
    "7. events   ## Get real-time events from the server   # 从 Docker 服务获取容器实时事件\n",
    "\n",
    "8. exec     ## Run a command in an existing container  # 在已存在的容器上运行命令\n",
    "\n",
    "9. export   ## Export the contents of a container as a tar archive (corresponds to import)  # 导出容器的内容流作为一个 tar 归档文件 [对应 import]\n",
    "\n",
    "10. history ## Show the history of an image           # 展示一个镜像形成历史\n",
    "\n",
    "11. images  ## List images in the system             # 列出系统当前镜像\n",
    "\n",
    "12. import  ## Create a new filesystem image from the contents of a tarball  # 从 tar 包中的内容创建一个新的文件系统映像【对应 export】\n",
    "\n",
    "13. info    ## Display system-wide information\n",
    "\n",
    "14. inspect ## Return low-level information on a container  # 查看容器详细信息\n",
    "\n",
    "15. kill    ## Kill a running container  # 指定 docker 容器\n",
    "\n",
    "16. load    ## Load an image from a tar archive  # 从一个 tar 包中加载一个镜像【对应 save】\n",
    "\n",
    "17. login   ## Register or Login to the docker registry server  # 注册或者登陆一个 docker 源服务器\n",
    "\n",
    "18. logout  ## Log out from a Docker registry server  # 从当前 Docker registry 退出\n",
    "\n",
    "19. logs    ## Fetch the logs of a container  # 输出当前容器日志信息\n",
    "\n",
    "20. port    ## Lookup the public-facing port which is NAT-ed to PRIVATE_PORT  # 查看映射端口对应的容器内部源端口\n",
    "\n",
    "21. pause   ## Pause all processes within a container  # 暂停容器\n",
    "\n",
    "22. ps      ## List containers  # 列出容器列表\n",
    "\n",
    "23. pull    ## Pull an image or a repository from the docker registry server  # 从 docker 镜像源服务器拉取指定镜像或者库镜像\n",
    "\n",
    "24. push    ## Push an image or a repository to the docker registry server  # 推送指定镜像或者库镜像至 docker 源服务器\n",
    "\n",
    "25. restart ## Restart a running container  # 重启运行的容器\n",
    "\n",
    "26. rm      ## Remove one or more containers  # 移除一个或者多个容器\n",
    "\n",
    "27. rmi     ## Remove one or more images  # 移除一个或多个镜像【无容器使用该镜像才可删除, 否则需删除相关容器才可继续或 -f 强制删除】\n",
    "\n",
    "28. run     ## Run a command in a new container  # 创建一个新的容器并运行一个命令\n",
    "\n",
    "29. save    ## Save an image to a tar archive  # 保存一个镜像为一个 tar 包【对应 load】\n",
    "\n",
    "30. search  ## Search for an image on the Docker Hub  # 在 docker hub 中搜索镜像\n",
    "\n",
    "31. start   ## Start a stopped container  # 启动容器\n",
    "\n",
    "32. stop    ## Stop a running container  # 停止容器\n",
    "\n",
    "33. tag     ## Tag an image into a repository  # 给源中镜像打标签\n",
    "\n",
    "34. top     ## Lookup the running processes of a container  # 查看容器中运行的进程信息\n",
    "\n",
    "35. unpause ## Unpause a paused container  # 取消暂停容器\n",
    "\n",
    "36. version ## Show the docker version information  # 查看 docker 版本号\n",
    "\n",
    "37. wait    ## Block until a container stops, then print its exit code  # 截取容器停止时的退出状态值\n"
   ]
  },
  {
   "cell_type": "markdown",
   "id": "848d01fe",
   "metadata": {},
   "source": [
    "![Alt text](213131.JPG)"
   ]
  },
  {
   "cell_type": "markdown",
   "id": "138e7d3a",
   "metadata": {},
   "source": [
    "![Alt text](62323.JPG)"
   ]
  }
 ],
 "metadata": {
  "kernelspec": {
   "display_name": "Python 3 (ipykernel)",
   "language": "python",
   "name": "python3"
  },
  "language_info": {
   "codemirror_mode": {
    "name": "ipython",
    "version": 3
   },
   "file_extension": ".py",
   "mimetype": "text/x-python",
   "name": "python",
   "nbconvert_exporter": "python",
   "pygments_lexer": "ipython3",
   "version": "3.8.13"
  }
 },
 "nbformat": 4,
 "nbformat_minor": 5
}
